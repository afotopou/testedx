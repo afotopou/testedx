{
 "cells": [
  {
   "cell_type": "code",
   "execution_count": 1,
   "id": "abff60d1-b219-46f3-893c-10d97322c329",
   "metadata": {},
   "outputs": [
    {
     "data": {
      "text/plain": [
       "2"
      ]
     },
     "execution_count": 1,
     "metadata": {},
     "output_type": "execute_result"
    }
   ],
   "source": [
    "1+1"
   ]
  },
  {
   "cell_type": "code",
   "execution_count": 4,
   "id": "17c772dc-5166-4352-b163-faf95c6da7b1",
   "metadata": {},
   "outputs": [
    {
     "data": {
      "text/plain": [
       "50"
      ]
     },
     "execution_count": 4,
     "metadata": {},
     "output_type": "execute_result"
    }
   ],
   "source": [
    "x=5\n",
    "y=10\n",
    "x*y"
   ]
  },
  {
   "cell_type": "code",
   "execution_count": null,
   "id": "780de138-30b9-4af4-89ca-f75d59ffdb7e",
   "metadata": {},
   "outputs": [],
   "source": []
  },
  {
   "cell_type": "code",
   "execution_count": null,
   "id": "f53fd89f-8a9b-4626-934e-a7a674721f0e",
   "metadata": {},
   "outputs": [],
   "source": []
  },
  {
   "cell_type": "code",
   "execution_count": null,
   "id": "505bed9f-d7c4-45f8-b793-336c7b46f90b",
   "metadata": {},
   "outputs": [],
   "source": []
  },
  {
   "cell_type": "markdown",
   "id": "1643f777-b917-443a-bcb8-5c7d14c2f3a1",
   "metadata": {},
   "source": [
    "this is a practice"
   ]
  },
  {
   "cell_type": "markdown",
   "id": "45a399b6-b2ce-403b-9f81-7d42515231e5",
   "metadata": {},
   "source": [
    "try again "
   ]
  },
  {
   "cell_type": "code",
   "execution_count": null,
   "id": "b7959301-5e92-4f0f-9a73-eee2d87efa5e",
   "metadata": {},
   "outputs": [],
   "source": []
  },
  {
   "cell_type": "code",
   "execution_count": null,
   "id": "650c5314-e223-4f1b-a1fd-055d2c9c0ef6",
   "metadata": {},
   "outputs": [],
   "source": []
  },
  {
   "cell_type": "code",
   "execution_count": null,
   "id": "a418ce53-88d2-4e34-865a-05d841bdd774",
   "metadata": {},
   "outputs": [],
   "source": []
  }
 ],
 "metadata": {
  "kernelspec": {
   "display_name": "Python",
   "language": "python",
   "name": "conda-env-python-py"
  },
  "language_info": {
   "codemirror_mode": {
    "name": "ipython",
    "version": 3
   },
   "file_extension": ".py",
   "mimetype": "text/x-python",
   "name": "python",
   "nbconvert_exporter": "python",
   "pygments_lexer": "ipython3",
   "version": "3.6.13"
  }
 },
 "nbformat": 4,
 "nbformat_minor": 5
}
